{
  "nbformat": 4,
  "nbformat_minor": 0,
  "metadata": {
    "colab": {
      "provenance": [],
      "authorship_tag": "ABX9TyPeleSgSZgWeB9qoKLBFWM3",
      "include_colab_link": true
    },
    "kernelspec": {
      "name": "python3",
      "display_name": "Python 3"
    },
    "language_info": {
      "name": "python"
    }
  },
  "cells": [
    {
      "cell_type": "markdown",
      "metadata": {
        "id": "view-in-github",
        "colab_type": "text"
      },
      "source": [
        "<a href=\"https://colab.research.google.com/github/Henryyyyy5/3Jdf04KsRf7p43DS/blob/main/main.ipynb\" target=\"_parent\"><img src=\"https://colab.research.google.com/assets/colab-badge.svg\" alt=\"Open In Colab\"/></a>"
      ]
    },
    {
      "cell_type": "code",
      "execution_count": 5,
      "metadata": {
        "id": "8POcqMkaPh-0",
        "colab": {
          "base_uri": "https://localhost:8080/"
        },
        "outputId": "36fe4b4d-6313-4bf0-8803-30fc222afc9b"
      },
      "outputs": [
        {
          "metadata": {
            "tags": null
          },
          "name": "stdout",
          "output_type": "stream",
          "text": [
            "#2#1__\n",
            "12221_\n",
            "__1#1_\n",
            "11211_\n",
            "2#1_11\n",
            "#21_1#\n",
            " \n",
            " ###___\n",
            "###___\n",
            "###___\n",
            "______\n",
            "______\n",
            "______\n",
            "\n"
          ]
        }
      ],
      "source": [
        "from random import randint\n",
        "\n",
        "global xlength, ylength, minecount, mines, visible, xcur, ycur\n",
        "xlength = 20\n",
        "ylength = 20\n",
        "minecount = 20\n",
        "mines = [[0 for i in range(xlength)] for j in range(ylength)]\n",
        "visible = [[True for i in range(xlength)] for j in range(ylength)]\n",
        "xcur = 1\n",
        "ycur = 1\n",
        "\n",
        "def show():\n",
        "  string = \"\"\n",
        "  for y in range(ylength):\n",
        "    for x in range(xlength):\n",
        "      if visible[y][x]:\n",
        "        if mines[y][x] < 0:\n",
        "          string += \"⚙\"\n",
        "        elif mines[y][x] == 0:\n",
        "          if x == xcur and y == ycur:\n",
        "            string += \"|\"\n",
        "          else:\n",
        "            string += \"_\"\n",
        "        else:\n",
        "          if x == xcur and y == ycur:\n",
        "            string += eval(rf\"'\\u246{mines[y][x]-1}'\")\n",
        "          else:\n",
        "            string += str(mines[y][x])\n",
        "      else:\n",
        "          if x == xcur and y == ycur:\n",
        "            string += \"◫\"\n",
        "          else:\n",
        "            string += \"☐\"\n",
        "    string += \"\\n\"\n",
        "  print(string)\n",
        "  # print(mines)\n",
        "\n",
        "def nearcell(list, val, x, y):\n",
        "  exec(f\"{list}[y][x] {val}\")\n",
        "  if y > 0 and x > 0:\n",
        "    exec(f\"{list}[y-1][x-1] {val}\")\n",
        "  if y > 0:\n",
        "    exec(f\"{list}[y-1][x] {val}\")\n",
        "  if y > 0 and x < xlength-1:\n",
        "    exec(f\"{list}[y-1][x+1] {val}\")\n",
        "  if x > 0:\n",
        "    exec(f\"{list}[y][x-1] {val}\")\n",
        "  if x < xlength-1:\n",
        "    exec(f\"{list}[y][x+1] {val}\")\n",
        "  if y < ylength-1 and x > 0:\n",
        "    exec(f\"{list}[y+1][x-1] {val}\")\n",
        "  if y < ylength-1:\n",
        "    exec(f\"{list}[y+1][x] {val}\")\n",
        "  if y < ylength-1 and x < xlength-1:\n",
        "    exec(f\"{list}[y+1][x+1] {val}\")\n",
        "\n",
        "i = minecount\n",
        "while i > 0:\n",
        "  x = randint(0,xlength-1)\n",
        "  y = randint(0,ylength-1)\n",
        "  if mines[y][x] < 0:\n",
        "    continue\n",
        "  mines[y][x] = -99\n",
        "  nearcell(\"mines\",\"+= 1\", x, y)\n",
        "  i -= 1\n",
        "\n",
        "nearcell(\"visible\",\"= True\", xcur, ycur)\n",
        "curs = \"◫☐①⚙\"\n",
        "\n",
        "show()"
      ]
    }
  ]
}