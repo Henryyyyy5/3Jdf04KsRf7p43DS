{
  "nbformat": 4,
  "nbformat_minor": 0,
  "metadata": {
    "colab": {
      "provenance": [],
      "authorship_tag": "ABX9TyOaiiecDC+q3z/DGgN3cOJP",
      "include_colab_link": true
    },
    "kernelspec": {
      "name": "python3",
      "display_name": "Python 3"
    },
    "language_info": {
      "name": "python"
    }
  },
  "cells": [
    {
      "cell_type": "markdown",
      "metadata": {
        "id": "view-in-github",
        "colab_type": "text"
      },
      "source": [
        "<a href=\"https://colab.research.google.com/github/Henryyyyy5/3Jdf04KsRf7p43DS/blob/main/main.ipynb\" target=\"_parent\"><img src=\"https://colab.research.google.com/assets/colab-badge.svg\" alt=\"Open In Colab\"/></a>"
      ]
    },
    {
      "cell_type": "code",
      "execution_count": null,
      "metadata": {
        "id": "8POcqMkaPh-0"
      },
      "outputs": [],
      "source": [
        "from random import randint\n",
        "\n",
        "global xlength\n",
        "xlength = 6\n",
        "global ylength\n",
        "ylength = 6\n",
        "global minecount\n",
        "minecount = 6\n",
        "global mines\n",
        "mines = [[0 for i in range(xlength)] for j in range(ylength)]\n",
        "global visible\n",
        "visible = [[False for i in range(xlength)] for j in range(ylength)]\n",
        "\n",
        "def show():\n",
        "  string1 = \"\"\n",
        "  string2 = \"\"\n",
        "  for i in range(y):\n",
        "    for j in range(x):\n",
        "      if mines[i][j] < 0:\n",
        "        string1 += \"#\"\n",
        "      elif mines[i][j] == 0:\n",
        "        string1 += \"_\"\n",
        "      else:\n",
        "        string1 += str(mines[i][j])\n",
        "      if visible[i][j]:\n",
        "        string2 += \"#\"\n",
        "      else:\n",
        "        string2 += \"_\"\n",
        "    string1 += \"\\n\"\n",
        "    string2 += \"\\n\"\n",
        "  print(string1,\"\\n\",string2)\n",
        "  # print(mines)\n",
        "\n",
        "def nearcell(list, val):\n",
        "  if y > 0 and x > 0:\n",
        "    exec(f\"{list}d[y-1][x-1] += val\n",
        "  if y > 0:\n",
        "    mines[y-1][x] += val\n",
        "  if y > 0 and x < xlength-1:\n",
        "    mines[y-1][x+1] += val\n",
        "  if x > 0:\n",
        "    mines[y][x-1] += val\n",
        "  if x < xlength-1:\n",
        "    mines[y][x+1] += val\n",
        "  if y < ylength-1 and x > 0:\n",
        "    mines[y+1][x-1] += val\n",
        "  if y < ylength-1:\n",
        "    mines[y+1][x] += val\n",
        "  if y < ylength-1 and x < xlength-1:\n",
        "    mines[y+1][x+1] += val\n",
        "\n",
        "i = minecount\n",
        "while i > 0:\n",
        "  x = randint(0,xlength-1)\n",
        "  y = randint(0,ylength-1)\n",
        "  if mines[y][x] < 0:\n",
        "    continue\n",
        "  mines[y][x] = -99\n",
        "  nearcell(\"mines\",\"+= 1\")\n",
        "  i -= 1\n",
        "\n",
        "show()\n",
        "\n",
        "xcur = 1\n",
        "ycur = 1"
      ]
    }
  ]
}